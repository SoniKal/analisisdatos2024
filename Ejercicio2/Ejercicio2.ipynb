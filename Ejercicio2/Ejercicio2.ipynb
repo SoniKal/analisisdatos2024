{
  "nbformat": 4,
  "nbformat_minor": 0,
  "metadata": {
    "colab": {
      "provenance": []
    },
    "kernelspec": {
      "name": "python3",
      "display_name": "Python 3"
    },
    "language_info": {
      "name": "python"
    }
  },
  "cells": [
    {
      "cell_type": "code",
      "execution_count": null,
      "metadata": {
        "id": "mvgozRHs4zI9"
      },
      "outputs": [],
      "source": [
        "import pandas as pd\n",
        "import numpy as np\n",
        "\n",
        "# Cargar el archivo CSV en un DataFrame\n",
        "df = pd.read_csv(\"movies_updated.csv\")\n",
        "\n",
        "# Realizar la limpieza de las columnas\n",
        "\n",
        "# Limpiar la columna 'name' (por ejemplo, eliminando espacios en blanco al principio y al final)\n",
        "df['name'] = df['name'].str.strip()\n",
        "\n",
        "# Limpiar la columna 'director' (por ejemplo, convirtiendo todos los valores a mayúscula)\n",
        "df['director'] = df['director'].str.upper()\n",
        "\n",
        "# Limpiar la columna 'star' (por ejemplo, eliminando espacios en blanco al principio y al final)\n",
        "df['star'] = df['star'].str.strip()\n",
        "\n",
        "# Limpiar la columna 'country' (por ejemplo, convirtiendo todos los valores a mayúscula)\n",
        "df['country'] = df['country'].str.upper()\n",
        "\n",
        "# Eliminar las filas que contienen valores nulos\n",
        "df.dropna(inplace=True)\n",
        "\n",
        "# Guardar el DataFrame limpio en un nuevo archivo CSV\n",
        "df.to_csv(\"movies_cleaned.csv\", index=False)\n"
      ]
    },
    {
      "cell_type": "code",
      "source": [
        "!ls Organization_v3.csv\n"
      ],
      "metadata": {
        "colab": {
          "base_uri": "https://localhost:8080/"
        },
        "id": "Wcz7cqqM69M-",
        "outputId": "e2f6829f-9afe-4283-e6a6-71749c253bba"
      },
      "execution_count": null,
      "outputs": [
        {
          "output_type": "stream",
          "name": "stdout",
          "text": [
            "Organization_v3.csv\n"
          ]
        }
      ]
    }
  ]
}