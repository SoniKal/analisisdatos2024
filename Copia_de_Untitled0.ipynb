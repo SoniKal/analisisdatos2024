{
  "nbformat": 4,
  "nbformat_minor": 0,
  "metadata": {
    "colab": {
      "provenance": [],
      "toc_visible": true
    },
    "kernelspec": {
      "name": "python3",
      "display_name": "Python 3"
    },
    "language_info": {
      "name": "python"
    }
  },
  "cells": [
    {
      "cell_type": "code",
      "execution_count": null,
      "metadata": {
        "colab": {
          "base_uri": "https://localhost:8080/"
        },
        "id": "BzOVNQzgyvlZ",
        "outputId": "c25e65dd-7593-47c4-8346-4f868b66efb7"
      },
      "outputs": [
        {
          "output_type": "stream",
          "name": "stdout",
          "text": [
            "hola\n",
            "chau\n",
            "sino\n"
          ]
        }
      ],
      "source": [
        "lista = [\"ho   la\", \"ch au\", \"si no\"]\n",
        "\n",
        "def eliminar_espacios(lista):\n",
        "    lista_sin_espacios = []\n",
        "    for elemento in lista:\n",
        "        elemento_sin_espacios = elemento.replace(\" \", \"\")\n",
        "        lista_sin_espacios.append(elemento_sin_espacios)\n",
        "    return lista_sin_espacios\n",
        "\n",
        "nuevalista = eliminar_espacios(lista)\n",
        "\n",
        "def mostrar_lista(lista):\n",
        "  for elemento in lista:\n",
        "    print(elemento)\n",
        "\n",
        "mostrar_lista(nuevalista)"
      ]
    },
    {
      "cell_type": "code",
      "source": [],
      "metadata": {
        "id": "4jn5oHV418t7"
      },
      "execution_count": null,
      "outputs": []
    }
  ]
}