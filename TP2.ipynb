{
  "nbformat": 4,
  "nbformat_minor": 0,
  "metadata": {
    "colab": {
      "provenance": []
    },
    "kernelspec": {
      "name": "python3",
      "display_name": "Python 3"
    },
    "language_info": {
      "name": "python"
    }
  },
  "cells": [
    {
      "cell_type": "code",
      "execution_count": 5,
      "metadata": {
        "id": "mvgozRHs4zI9"
      },
      "outputs": [],
      "source": [
        "import pandas as pd\n",
        "import numpy as np\n",
        "\n",
        "# Cargar el archivo CSV en un DataFrame\n",
        "df = pd.read_csv(\"Organization_v3.csv\")\n",
        "\n",
        "# Realizar la limpieza de las columnas\n",
        "# Asumiendo que la limpieza significa hacer que los valores tengan la misma estructura\n",
        "\n",
        "# Limpiar la columna 'organizationIdentifier' (por ejemplo, convirtiendo todos los valores a cadenas)\n",
        "df['organizationIdentifier'] = df['organizationIdentifier'].astype(str)\n",
        "\n",
        "# Limpiar la columna 'orgType' (por ejemplo, eliminando espacios en blanco al principio y al final)\n",
        "df['orgType'] = df['orgType'].str.strip()\n",
        "\n",
        "# Limpiar la columna 'location.locationIdentifier' (por ejemplo, convirtiendo todos los valores a cadenas)\n",
        "df['location.locationIdentifier'] = df['location.locationIdentifier'].astype(str)\n",
        "\n",
        "# Limpiar la columna 'name' (por ejemplo, convirtiendo todos los valores a mayúsculas)\n",
        "df['name'] = df['name'].str.upper()\n",
        "\n",
        "# Eliminar las filas que contienen valores nulos\n",
        "df.dropna(inplace=True)\n",
        "\n",
        "# Guardar el DataFrame limpio en un nuevo archivo CSV\n",
        "df.to_csv(\"organization_cleaned.csv\", index=False)\n"
      ]
    },
    {
      "cell_type": "code",
      "source": [
        "!ls Organization_v3.csv\n"
      ],
      "metadata": {
        "colab": {
          "base_uri": "https://localhost:8080/"
        },
        "id": "Wcz7cqqM69M-",
        "outputId": "e2f6829f-9afe-4283-e6a6-71749c253bba"
      },
      "execution_count": 4,
      "outputs": [
        {
          "output_type": "stream",
          "name": "stdout",
          "text": [
            "Organization_v3.csv\n"
          ]
        }
      ]
    }
  ]
}